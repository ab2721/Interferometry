{
 "cells": [
  {
   "cell_type": "code",
   "execution_count": 1,
   "id": "85bfdcb6",
   "metadata": {},
   "outputs": [],
   "source": [
    "wavelength=532e-9\n",
    "F1=3\n",
    "F2=1\n",
    "F3=1\n",
    "F4=2"
   ]
  },
  {
   "cell_type": "code",
   "execution_count": 2,
   "id": "5a3e56f3",
   "metadata": {},
   "outputs": [],
   "source": [
    "x1=(wavelength*F1)/0.33\n",
    "x2=(wavelength*F2)/0.33\n",
    "x3=(wavelength*F3)/0.33\n",
    "x4=(wavelength*F4)/0.33"
   ]
  },
  {
   "cell_type": "code",
   "execution_count": 3,
   "id": "7330e668",
   "metadata": {},
   "outputs": [
    {
     "name": "stdout",
     "output_type": "stream",
     "text": [
      "The thickness of bubble 1 was 4.836363636363636e-06 +/- 8.060606060606061e-07 m\n",
      "The thickness of bubble 2 was 1.6121212121212122e-06 +/- 8.060606060606061e-07 m\n",
      "The thickness of bubble 3 was 1.6121212121212122e-06 +/- 8.060606060606061e-07 m\n",
      "The thickness of bubble 4 was 3.2242424242424244e-06 +/- 8.060606060606061e-07 m\n"
     ]
    }
   ],
   "source": [
    "errorF=0.5\n",
    "errorx=(((wavelength/0.33)**2)*0.5*0.5)**0.5\n",
    "print(\"The thickness of bubble 1 was\", x1, \"+/-\" ,errorx, \"m\")\n",
    "print(\"The thickness of bubble 2 was\", x2, \"+/-\" ,errorx, \"m\")\n",
    "print(\"The thickness of bubble 3 was\", x3, \"+/-\" ,errorx, \"m\")\n",
    "print(\"The thickness of bubble 4 was\", x4, \"+/-\" ,errorx, \"m\")"
   ]
  },
  {
   "cell_type": "code",
   "execution_count": 4,
   "id": "9b35bb58",
   "metadata": {},
   "outputs": [
    {
     "name": "stdout",
     "output_type": "stream",
     "text": [
      "Requirement already satisfied: tabulate in /Users/anubhabal/opt/anaconda3/lib/python3.8/site-packages (0.8.9)\n",
      "Note: you may need to restart the kernel to use updated packages.\n"
     ]
    }
   ],
   "source": [
    "pip install tabulate"
   ]
  },
  {
   "cell_type": "code",
   "execution_count": 5,
   "id": "31662366",
   "metadata": {},
   "outputs": [],
   "source": [
    "from tabulate import tabulate "
   ]
  },
  {
   "cell_type": "code",
   "execution_count": 6,
   "id": "5a52164e",
   "metadata": {},
   "outputs": [
    {
     "name": "stdout",
     "output_type": "stream",
     "text": [
      "╒═════════════════╤═══════════════════════════╤══════════════════════════╕\n",
      "│   Bubble Number │   Thickness of bubble (m) │   Error in thickness (m) │\n",
      "╞═════════════════╪═══════════════════════════╪══════════════════════════╡\n",
      "│               1 │                   4.8e-06 │                    8e-07 │\n",
      "├─────────────────┼───────────────────────────┼──────────────────────────┤\n",
      "│               2 │                   1.6e-06 │                    8e-07 │\n",
      "├─────────────────┼───────────────────────────┼──────────────────────────┤\n",
      "│               3 │                   1.6e-06 │                    8e-07 │\n",
      "├─────────────────┼───────────────────────────┼──────────────────────────┤\n",
      "│               4 │                   3.2e-06 │                    8e-07 │\n",
      "╘═════════════════╧═══════════════════════════╧══════════════════════════╛\n"
     ]
    }
   ],
   "source": [
    "table = ['Bubble Number', 'Thickness of bubble (m)', 'Error in thickness (m)'],['1','4.8e-6','8e-7'],['2','1.6e-6','8e-7'],['3','1.6e-6','8e-7'],['4','3.2e-6','8e-7']\n",
    "print(tabulate(table, headers='firstrow', tablefmt='fancy_grid'))"
   ]
  },
  {
   "cell_type": "code",
   "execution_count": 7,
   "id": "79db3367",
   "metadata": {},
   "outputs": [
    {
     "name": "stdout",
     "output_type": "stream",
     "text": [
      "╒═════════════════╤════════════════╤════════════════════════╕\n",
      "│   Bubble Number │   Fringe Shift │ Error in Fringe Sift   │\n",
      "╞═════════════════╪════════════════╪════════════════════════╡\n",
      "│               1 │              3 │ 1/2                    │\n",
      "├─────────────────┼────────────────┼────────────────────────┤\n",
      "│               2 │              1 │ 1/2                    │\n",
      "├─────────────────┼────────────────┼────────────────────────┤\n",
      "│               3 │              1 │ 1/2                    │\n",
      "├─────────────────┼────────────────┼────────────────────────┤\n",
      "│               4 │              2 │ 1/2                    │\n",
      "╘═════════════════╧════════════════╧════════════════════════╛\n"
     ]
    }
   ],
   "source": [
    "table1=['Bubble Number','Fringe Shift','Error in Fringe Sift'],['1','3','1/2'],['2','1','1/2'],['3','1','1/2'],['4','2','1/2']\n",
    "print(tabulate(table1, headers ='firstrow', tablefmt='fancy_grid'))"
   ]
  },
  {
   "cell_type": "code",
   "execution_count": 9,
   "id": "4e42ed4f",
   "metadata": {},
   "outputs": [],
   "source": [
    "import numpy as np\n",
    "x=np.array([x1,x2,x3,x4])"
   ]
  },
  {
   "cell_type": "code",
   "execution_count": 10,
   "id": "baef0d6b",
   "metadata": {},
   "outputs": [
    {
     "name": "stdout",
     "output_type": "stream",
     "text": [
      "1.543488549473854e-06\n"
     ]
    }
   ],
   "source": [
    "s=np.std(x, ddof = 1)\n",
    "print(s)"
   ]
  },
  {
   "cell_type": "code",
   "execution_count": 11,
   "id": "f762bd4d",
   "metadata": {},
   "outputs": [
    {
     "data": {
      "text/plain": [
       "4"
      ]
     },
     "execution_count": 11,
     "metadata": {},
     "output_type": "execute_result"
    }
   ],
   "source": [
    "len(x)"
   ]
  },
  {
   "cell_type": "code",
   "execution_count": 12,
   "id": "8e768e78",
   "metadata": {},
   "outputs": [],
   "source": [
    "error_on_mean=s/(np.sqrt(4))"
   ]
  },
  {
   "cell_type": "code",
   "execution_count": 13,
   "id": "a7f6d053",
   "metadata": {},
   "outputs": [],
   "source": [
    "thickness=np.mean(x)"
   ]
  },
  {
   "cell_type": "code",
   "execution_count": 14,
   "id": "1f3c46b5",
   "metadata": {},
   "outputs": [
    {
     "name": "stdout",
     "output_type": "stream",
     "text": [
      "The average thickness of the four bubbles is 2.821212121212121e-06 +/- 7.71744274736927e-07 m\n"
     ]
    }
   ],
   "source": [
    "print('The average thickness of the four bubbles is',thickness, '+/-', error_on_mean, 'm')"
   ]
  },
  {
   "cell_type": "code",
   "execution_count": null,
   "id": "70e66409",
   "metadata": {},
   "outputs": [],
   "source": []
  }
 ],
 "metadata": {
  "kernelspec": {
   "display_name": "Python 3",
   "language": "python",
   "name": "python3"
  },
  "language_info": {
   "codemirror_mode": {
    "name": "ipython",
    "version": 3
   },
   "file_extension": ".py",
   "mimetype": "text/x-python",
   "name": "python",
   "nbconvert_exporter": "python",
   "pygments_lexer": "ipython3",
   "version": "3.8.8"
  }
 },
 "nbformat": 4,
 "nbformat_minor": 5
}
